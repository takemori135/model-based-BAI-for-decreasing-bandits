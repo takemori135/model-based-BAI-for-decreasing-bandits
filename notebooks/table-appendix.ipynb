{
 "cells": [
  {
   "cell_type": "code",
   "execution_count": 1,
   "metadata": {},
   "outputs": [],
   "source": [
    "import os\n",
    "os.chdir(\"..\")"
   ]
  },
  {
   "cell_type": "code",
   "execution_count": 2,
   "metadata": {},
   "outputs": [],
   "source": [
    "from nonstationary_bai.utils import read_dumped_rhos_cn, read_compatiblity_constants\n",
    "from tests.test_ns_bai import cond_num\n",
    "from tests.test_cc import sigma_mat_fn\n",
    "import pandas as pd\n",
    "import numpy as np"
   ]
  },
  {
   "cell_type": "code",
   "execution_count": 3,
   "metadata": {},
   "outputs": [],
   "source": [
    "def make_df():\n",
    "    cc_dct = read_compatiblity_constants()\n",
    "    df_dct = {\"d\": [], \"max_lam\": [], \"min_lam\": [], \"gap_gen\": [], \"gap_sp\": [], \"cc\": []}\n",
    "    for d in range(3, 8):\n",
    "        rhos = np.array(read_dumped_rhos_cn(d))\n",
    "        m = sigma_mat_fn(rhos)\n",
    "        lams = np.linalg.eigh(m)[0]\n",
    "        lam_mx = np.max(lams)\n",
    "        lam_mn = np.min(lams)\n",
    "        if (d, 1) in cc_dct:\n",
    "            cc = cc_dct[(d, 1)][\"fun\"]\n",
    "            mc = (2/cc)**2\n",
    "            gap_sp = mc * lam_mx\n",
    "        else:\n",
    "            cc = None\n",
    "            mc = None\n",
    "            gap_sp = None\n",
    "        df_dct[\"d\"].append(int(d))\n",
    "        df_dct[\"max_lam\"].append(f\"{lam_mx:.0e}\")\n",
    "        df_dct[\"min_lam\"].append(f\"{lam_mn:.0e}\")\n",
    "        df_dct[\"cc\"].append(f\"{cc:.0e}\" if cc is not None else None)\n",
    "        df_dct[\"gap_gen\"].append(f\"{d * lam_mx / lam_mn:.0e}\")\n",
    "        df_dct[\"gap_sp\"].append(f\"{gap_sp:.0e}\" if gap_sp is not None else None)\n",
    "    return pd.DataFrame(df_dct)"
   ]
  },
  {
   "cell_type": "code",
   "execution_count": 4,
   "metadata": {},
   "outputs": [],
   "source": [
    "df = make_df()"
   ]
  },
  {
   "cell_type": "code",
   "execution_count": 5,
   "metadata": {},
   "outputs": [
    {
     "data": {
      "text/html": [
       "<div>\n",
       "<style scoped>\n",
       "    .dataframe tbody tr th:only-of-type {\n",
       "        vertical-align: middle;\n",
       "    }\n",
       "\n",
       "    .dataframe tbody tr th {\n",
       "        vertical-align: top;\n",
       "    }\n",
       "\n",
       "    .dataframe thead th {\n",
       "        text-align: right;\n",
       "    }\n",
       "</style>\n",
       "<table border=\"1\" class=\"dataframe\">\n",
       "  <thead>\n",
       "    <tr style=\"text-align: right;\">\n",
       "      <th></th>\n",
       "      <th>d</th>\n",
       "      <th>max_lam</th>\n",
       "      <th>min_lam</th>\n",
       "      <th>gap_gen</th>\n",
       "      <th>gap_sp</th>\n",
       "      <th>cc</th>\n",
       "    </tr>\n",
       "  </thead>\n",
       "  <tbody>\n",
       "    <tr>\n",
       "      <th>0</th>\n",
       "      <td>3</td>\n",
       "      <td>3e+01</td>\n",
       "      <td>4e-01</td>\n",
       "      <td>2e+02</td>\n",
       "      <td>2e+02</td>\n",
       "      <td>7e-01</td>\n",
       "    </tr>\n",
       "    <tr>\n",
       "      <th>1</th>\n",
       "      <td>4</td>\n",
       "      <td>1e+02</td>\n",
       "      <td>4e-01</td>\n",
       "      <td>1e+03</td>\n",
       "      <td>6e+02</td>\n",
       "      <td>9e-01</td>\n",
       "    </tr>\n",
       "    <tr>\n",
       "      <th>2</th>\n",
       "      <td>5</td>\n",
       "      <td>2e+02</td>\n",
       "      <td>2e-01</td>\n",
       "      <td>5e+03</td>\n",
       "      <td>2e+03</td>\n",
       "      <td>5e-01</td>\n",
       "    </tr>\n",
       "    <tr>\n",
       "      <th>3</th>\n",
       "      <td>6</td>\n",
       "      <td>2e+02</td>\n",
       "      <td>4e-02</td>\n",
       "      <td>3e+04</td>\n",
       "      <td>1e+04</td>\n",
       "      <td>3e-01</td>\n",
       "    </tr>\n",
       "    <tr>\n",
       "      <th>4</th>\n",
       "      <td>7</td>\n",
       "      <td>2e+02</td>\n",
       "      <td>9e-03</td>\n",
       "      <td>2e+05</td>\n",
       "      <td>6e+04</td>\n",
       "      <td>1e-01</td>\n",
       "    </tr>\n",
       "  </tbody>\n",
       "</table>\n",
       "</div>"
      ],
      "text/plain": [
       "   d max_lam min_lam gap_gen gap_sp     cc\n",
       "0  3   3e+01   4e-01   2e+02  2e+02  7e-01\n",
       "1  4   1e+02   4e-01   1e+03  6e+02  9e-01\n",
       "2  5   2e+02   2e-01   5e+03  2e+03  5e-01\n",
       "3  6   2e+02   4e-02   3e+04  1e+04  3e-01\n",
       "4  7   2e+02   9e-03   2e+05  6e+04  1e-01"
      ]
     },
     "execution_count": 5,
     "metadata": {},
     "output_type": "execute_result"
    }
   ],
   "source": [
    "df"
   ]
  },
  {
   "cell_type": "code",
   "execution_count": 6,
   "metadata": {},
   "outputs": [
    {
     "name": "stdout",
     "output_type": "stream",
     "text": [
      "\\begin{tabular}{llllll}\n",
      "\\toprule\n",
      "{} &      0 &      1 &      2 &      3 &      4 \\\\\n",
      "\\midrule\n",
      "d       &      3 &      4 &      5 &      6 &      7 \\\\\n",
      "max\\_lam &  3e+01 &  1e+02 &  2e+02 &  2e+02 &  2e+02 \\\\\n",
      "min\\_lam &  4e-01 &  4e-01 &  2e-01 &  4e-02 &  9e-03 \\\\\n",
      "gap\\_gen &  2e+02 &  1e+03 &  5e+03 &  3e+04 &  2e+05 \\\\\n",
      "gap\\_sp  &  2e+02 &  6e+02 &  2e+03 &  1e+04 &  6e+04 \\\\\n",
      "cc      &  7e-01 &  9e-01 &  5e-01 &  3e-01 &  1e-01 \\\\\n",
      "\\bottomrule\n",
      "\\end{tabular}\n",
      "\n"
     ]
    },
    {
     "name": "stderr",
     "output_type": "stream",
     "text": [
      "/tmp/ipykernel_7156/3761838652.py:1: FutureWarning: In future versions `DataFrame.to_latex` is expected to utilise the base implementation of `Styler.to_latex` for formatting and rendering. The arguments signature may therefore change. It is recommended instead to use `DataFrame.style.to_latex` which also contains additional functionality.\n",
      "  print(df.T.to_latex())\n"
     ]
    }
   ],
   "source": [
    "print(df.T.to_latex())"
   ]
  }
 ],
 "metadata": {
  "kernelspec": {
   "display_name": "Python 3 (ipykernel)",
   "language": "python",
   "name": "python3"
  },
  "language_info": {
   "codemirror_mode": {
    "name": "ipython",
    "version": 3
   },
   "file_extension": ".py",
   "mimetype": "text/x-python",
   "name": "python",
   "nbconvert_exporter": "python",
   "pygments_lexer": "ipython3",
   "version": "3.10.5"
  }
 },
 "nbformat": 4,
 "nbformat_minor": 4
}
